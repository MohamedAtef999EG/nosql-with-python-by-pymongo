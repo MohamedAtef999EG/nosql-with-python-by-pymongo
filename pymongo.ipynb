{
 "cells": [
  {
   "cell_type": "code",
   "execution_count": 1,
   "id": "28ea9569",
   "metadata": {
    "scrolled": true
   },
   "outputs": [
    {
     "name": "stdout",
     "output_type": "stream",
     "text": [
      "Requirement already satisfied: pymongo in c:\\conda\\lib\\site-packages (4.0.1)\n",
      "Note: you may need to restart the kernel to use updated packages.\n"
     ]
    }
   ],
   "source": [
    "pip install pymongo"
   ]
  },
  {
   "cell_type": "code",
   "execution_count": 2,
   "id": "9e1d5683",
   "metadata": {},
   "outputs": [],
   "source": [
    "import pymongo"
   ]
  },
  {
   "cell_type": "code",
   "execution_count": 3,
   "id": "eb381efa",
   "metadata": {},
   "outputs": [],
   "source": [
    "from pymongo import MongoClient\n"
   ]
  },
  {
   "cell_type": "code",
   "execution_count": 4,
   "id": "4ce3b7da",
   "metadata": {},
   "outputs": [],
   "source": [
    "client = MongoClient('localhost', 27017)"
   ]
  },
  {
   "cell_type": "code",
   "execution_count": 5,
   "id": "a47b12c9",
   "metadata": {},
   "outputs": [
    {
     "name": "stdout",
     "output_type": "stream",
     "text": [
      "Database created........\n",
      "List of databases after creating new one\n",
      "['admin', 'config', 'local', 'mydb', 'test', 'wait']\n"
     ]
    }
   ],
   "source": [
    "db = client['mydb']\n",
    "print(\"Database created........\")\n",
    "print(\"List of databases after creating new one\")\n",
    "print(client.list_database_names())"
   ]
  },
  {
   "cell_type": "code",
   "execution_count": 7,
   "id": "93568358",
   "metadata": {},
   "outputs": [
    {
     "data": {
      "text/plain": [
       "<pymongo.results.InsertOneResult at 0x20e82618900>"
      ]
     },
     "execution_count": 7,
     "metadata": {},
     "output_type": "execute_result"
    }
   ],
   "source": [
    "doc1 = {\"name\": \"Ram\", \"age\": \"26\", \"city\": \"Hyderabad\"}\n",
    "{ \"name\" : \"Ram\", \"age\" : \"26\", \"city\" : \"Hyderabad\" }\n",
    "db.coll.insert_one(doc1)"
   ]
  },
  {
   "cell_type": "code",
   "execution_count": 8,
   "id": "335c3629",
   "metadata": {},
   "outputs": [
    {
     "data": {
      "text/plain": [
       "<pymongo.cursor.Cursor at 0x20e82656160>"
      ]
     },
     "execution_count": 8,
     "metadata": {},
     "output_type": "execute_result"
    }
   ],
   "source": [
    "db.coll.find()"
   ]
  },
  {
   "cell_type": "code",
   "execution_count": 10,
   "id": "5111c4d6",
   "metadata": {},
   "outputs": [
    {
     "data": {
      "text/plain": [
       "{'_id': ObjectId('621b40492e3cf90daffdd9a7'),\n",
       " 'name': 'Ram',\n",
       " 'age': '26',\n",
       " 'city': 'Hyderabad'}"
      ]
     },
     "execution_count": 10,
     "metadata": {},
     "output_type": "execute_result"
    }
   ],
   "source": [
    "db.coll.find_one()"
   ]
  },
  {
   "cell_type": "code",
   "execution_count": 12,
   "id": "c1745c1b",
   "metadata": {},
   "outputs": [
    {
     "data": {
      "text/plain": [
       "Collection(Database(MongoClient(host=['localhost:27017'], document_class=dict, tz_aware=False, connect=True), 'mydb'), 'new1')"
      ]
     },
     "execution_count": 12,
     "metadata": {},
     "output_type": "execute_result"
    }
   ],
   "source": [
    "db.create_collection(\"new1\")"
   ]
  },
  {
   "cell_type": "code",
   "execution_count": 13,
   "id": "ef9c6720",
   "metadata": {},
   "outputs": [
    {
     "data": {
      "text/plain": [
       "<pymongo.results.InsertManyResult at 0x20e826b0f00>"
      ]
     },
     "execution_count": 13,
     "metadata": {},
     "output_type": "execute_result"
    }
   ],
   "source": [
    "data = [{\"_id\": \"1001\", \"name\": \"Ram\", \"age\": \"26\", \"city\": \"Hyderabad\"},\n",
    "{\"_id\": \"1002\", \"name\": \"Rahim\", \"age\": \"27\", \"city\": \"Bangalore\"},\n",
    "{\"_id\": \"1003\", \"name\": \"Robert\", \"age\": \"28\", \"city\": \"Mumbai\"},\n",
    "{\"_id\": \"1004\", \"name\": \"Romeo\", \"age\": \"25\", \"city\": \"Pune\"},\n",
    "{\"_id\": \"1005\", \"name\": \"Sarmista\", \"age\": \"23\", \"city\": \"Delhi\"},\n",
    "{\"_id\": \"1006\", \"name\": \"Rasajna\", \"age\": \"26\", \"city\": \"Chennai\"}]\n",
    "\n",
    "db.new1.insert_many(data)"
   ]
  },
  {
   "cell_type": "code",
   "execution_count": 14,
   "id": "62bda3bf",
   "metadata": {},
   "outputs": [
    {
     "name": "stdout",
     "output_type": "stream",
     "text": [
      "{'_id': '1002', 'name': 'Rahim', 'age': '27', 'city': 'Bangalore'}\n",
      "{'_id': '1003', 'name': 'Robert', 'age': '28', 'city': 'Mumbai'}\n"
     ]
    }
   ],
   "source": [
    "for doc in db.new1.find({\"age\":{\"$gt\":\"26\"}}):\n",
    "    print(doc)"
   ]
  },
  {
   "cell_type": "code",
   "execution_count": 15,
   "id": "8eaa7a39",
   "metadata": {},
   "outputs": [
    {
     "name": "stdout",
     "output_type": "stream",
     "text": [
      "{'_id': '1002', 'name': 'Rahim', 'age': '27', 'city': 'Bangalore'}\n",
      "{'_id': '1003', 'name': 'Robert', 'age': '28', 'city': 'Mumbai'}\n",
      "{'_id': '1004', 'name': 'Romeo', 'age': '25', 'city': 'Pune'}\n",
      "{'_id': '1005', 'name': 'Sarmista', 'age': '23', 'city': 'Delhi'}\n"
     ]
    }
   ],
   "source": [
    "for doc in db.new1.find({\"age\":{\"$ne\":\"26\"}}):\n",
    "    print(doc)"
   ]
  },
  {
   "cell_type": "code",
   "execution_count": 16,
   "id": "c944d913",
   "metadata": {},
   "outputs": [
    {
     "name": "stdout",
     "output_type": "stream",
     "text": [
      "{'_id': '1001', 'name': 'Ram', 'age': '26', 'city': 'Hyderabad'}\n",
      "{'_id': '1002', 'name': 'Rahim', 'age': '27', 'city': 'Bangalore'}\n",
      "{'_id': '1003', 'name': 'Robert', 'age': '28', 'city': 'Mumbai'}\n",
      "{'_id': '1006', 'name': 'Rasajna', 'age': '26', 'city': 'Chennai'}\n"
     ]
    }
   ],
   "source": [
    "for doc in db.new1.find({\"age\":{\"$gte\":\"26\"}}):\n",
    "    print(doc)"
   ]
  },
  {
   "cell_type": "code",
   "execution_count": 18,
   "id": "367b31f9",
   "metadata": {},
   "outputs": [
    {
     "ename": "CollectionInvalid",
     "evalue": "collection new3 already exists",
     "output_type": "error",
     "traceback": [
      "\u001b[1;31m---------------------------------------------------------------------------\u001b[0m",
      "\u001b[1;31mCollectionInvalid\u001b[0m                         Traceback (most recent call last)",
      "\u001b[1;32mC:\\Users\\HOME~1\\AppData\\Local\\Temp/ipykernel_15216/1309120360.py\u001b[0m in \u001b[0;36m<module>\u001b[1;34m\u001b[0m\n\u001b[1;32m----> 1\u001b[1;33m \u001b[0mdb\u001b[0m\u001b[1;33m.\u001b[0m\u001b[0mcreate_collection\u001b[0m\u001b[1;33m(\u001b[0m\u001b[1;34m\"new3\"\u001b[0m\u001b[1;33m)\u001b[0m\u001b[1;33m\u001b[0m\u001b[1;33m\u001b[0m\u001b[0m\n\u001b[0m",
      "\u001b[1;32mC:\\conda\\lib\\site-packages\\pymongo\\database.py\u001b[0m in \u001b[0;36mcreate_collection\u001b[1;34m(self, name, codec_options, read_preference, write_concern, read_concern, session, **kwargs)\u001b[0m\n\u001b[0;32m    310\u001b[0m                     name in self.list_collection_names(\n\u001b[0;32m    311\u001b[0m                         filter={\"name\": name}, session=s)):\n\u001b[1;32m--> 312\u001b[1;33m                 \u001b[1;32mraise\u001b[0m \u001b[0mCollectionInvalid\u001b[0m\u001b[1;33m(\u001b[0m\u001b[1;34m\"collection %s already exists\"\u001b[0m \u001b[1;33m%\u001b[0m \u001b[0mname\u001b[0m\u001b[1;33m)\u001b[0m\u001b[1;33m\u001b[0m\u001b[1;33m\u001b[0m\u001b[0m\n\u001b[0m\u001b[0;32m    313\u001b[0m \u001b[1;33m\u001b[0m\u001b[0m\n\u001b[0;32m    314\u001b[0m             return Collection(self, name, True, codec_options,\n",
      "\u001b[1;31mCollectionInvalid\u001b[0m: collection new3 already exists"
     ]
    }
   ],
   "source": [
    "db.create_collection(\"new3\")"
   ]
  },
  {
   "cell_type": "code",
   "execution_count": null,
   "id": "8c060ffa",
   "metadata": {},
   "outputs": [],
   "source": [
    "data = [\n",
    "{\"_id\": \"1001\", \"name\": \"Ram\", \"age\": \"26\", \"city\": \"Hyderabad\"},\n",
    "{\"_id\": \"1002\", \"name\": \"Rahim\", \"age\": 27, \"city\": \"Bangalore\"},\n",
    "{\"_id\": \"1003\", \"name\": \"Robert\", \"age\": 28, \"city\": \"Mumbai\"},\n",
    "{\"_id\": \"1004\", \"name\": \"Romeo\", \"age\": 25, \"city\": \"Pune\"},\n",
    "{\"_id\": \"1005\", \"name\": \"Sarmista\", \"age\": 23, \"city\": \"Delhi\"},\n",
    "{\"_id\": \"1006\", \"name\": \"Rasajna\", \"age\": 26, \"city\": \"Chennai\"}]\n",
    "db.new2.insert_many(data)"
   ]
  },
  {
   "cell_type": "code",
   "execution_count": null,
   "id": "d357c69c",
   "metadata": {},
   "outputs": [],
   "source": [
    "db.new2.delete_one({\"_id\" : \"1006\"})"
   ]
  },
  {
   "cell_type": "code",
   "execution_count": null,
   "id": "493c1665",
   "metadata": {},
   "outputs": [],
   "source": [
    "for doc2 in db.new2.find():\n",
    "    print(doc2) "
   ]
  },
  {
   "cell_type": "code",
   "execution_count": null,
   "id": "0ddce919",
   "metadata": {},
   "outputs": [],
   "source": [
    "db.new2.delete_one({\"_id\":\"1001\"})"
   ]
  },
  {
   "cell_type": "code",
   "execution_count": null,
   "id": "b720a31e",
   "metadata": {},
   "outputs": [],
   "source": [
    "for x in db.new2.find():\n",
    "    print(x)"
   ]
  },
  {
   "cell_type": "code",
   "execution_count": null,
   "id": "e8fdb8c0",
   "metadata": {},
   "outputs": [],
   "source": [
    "db.create_collection(\"new3\")"
   ]
  },
  {
   "cell_type": "code",
   "execution_count": null,
   "id": "0460b832",
   "metadata": {},
   "outputs": [],
   "source": [
    "data = [\n",
    "... {\"_id\": \"1001\", \"name\": \"Ram\", \"age\": \"26\", \"city\": \"Hyderabad\"},\n",
    "... {\"_id\": \"1002\", \"name\" : \"Rahim\", \"age\" : 27, \"city\" : \"Bangalore\" },\n",
    "... {\"_id\": \"1003\", \"name\" : \"Robert\", \"age\" : 28, \"city\" : \"Mumbai\" }]\n",
    "[\n",
    "db.new3.insert_many(data)"
   ]
  },
  {
   "cell_type": "code",
   "execution_count": null,
   "id": "870e99c6",
   "metadata": {},
   "outputs": [],
   "source": [
    "for x in db.new3.find():\n",
    "    print(x)"
   ]
  },
  {
   "cell_type": "code",
   "execution_count": null,
   "id": "d1d2a62e",
   "metadata": {},
   "outputs": [],
   "source": [
    "db.new3.update_one({\"name\":\"Robert\"},{\"$set\":{\"city\":\"Bangalore\"}})"
   ]
  },
  {
   "cell_type": "code",
   "execution_count": null,
   "id": "4a498088",
   "metadata": {},
   "outputs": [],
   "source": [
    "for t in db.new3.find():\n",
    "    print(t)"
   ]
  },
  {
   "cell_type": "code",
   "execution_count": null,
   "id": "b64fb5e5",
   "metadata": {},
   "outputs": [],
   "source": [
    "for t in db.new3.find().limit(2):\n",
    "    print(t)"
   ]
  },
  {
   "cell_type": "code",
   "execution_count": null,
   "id": "d459e655",
   "metadata": {},
   "outputs": [],
   "source": []
  }
 ],
 "metadata": {
  "kernelspec": {
   "display_name": "Python 3 (ipykernel)",
   "language": "python",
   "name": "python3"
  },
  "language_info": {
   "codemirror_mode": {
    "name": "ipython",
    "version": 3
   },
   "file_extension": ".py",
   "mimetype": "text/x-python",
   "name": "python",
   "nbconvert_exporter": "python",
   "pygments_lexer": "ipython3",
   "version": "3.9.7"
  }
 },
 "nbformat": 4,
 "nbformat_minor": 5
}
